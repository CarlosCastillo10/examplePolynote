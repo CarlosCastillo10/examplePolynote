{
 "cells": [
  {
   "cell_type": "code",
   "execution_count": 1,
   "metadata": {},
   "outputs": [
    {
     "ename": "SyntaxError",
     "evalue": "invalid syntax (<ipython-input-1-c15a92611f06>, line 3)",
     "output_type": "error",
     "traceback": [
      "\u001b[0;36m  File \u001b[0;32m\"<ipython-input-1-c15a92611f06>\"\u001b[0;36m, line \u001b[0;32m3\u001b[0m\n\u001b[0;31m    <p style=\"text-align: justify;\">Polynote actualmente solo se prueba en Linux y MacOS, utilizando el navegador Chrome como cliente</p>\u001b[0m\n\u001b[0m    ^\u001b[0m\n\u001b[0;31mSyntaxError\u001b[0m\u001b[0;31m:\u001b[0m invalid syntax\n"
     ]
    }
   ],
   "source": [
    "# INSTALACIÓN\n",
    "\n",
    "<p style=\"text-align: justify;\">Polynote actualmente solo se prueba en Linux y MacOS, utilizando el navegador Chrome como cliente</p>\n",
    "\n",
    "### MAC:\n",
    "\n",
    "* Se necesita el manejador de paquetes [Homebrew](https://brew.sh).\n",
    "* Puede instalar Spark localmente con <code class=\"language-plaintext highlighter-rouge\">brew install apache-spark</code>"
   ]
  }
 ],
 "metadata": {
  "kernelspec": {
   "display_name": "Python 3",
   "language": "python",
   "name": "python3"
  },
  "language_info": {
   "codemirror_mode": {
    "name": "ipython",
    "version": 3
   },
   "file_extension": ".py",
   "mimetype": "text/x-python",
   "name": "python",
   "nbconvert_exporter": "python",
   "pygments_lexer": "ipython3",
   "version": "3.5.2"
  }
 },
 "nbformat": 4,
 "nbformat_minor": 2
}
