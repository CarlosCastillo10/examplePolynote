{
 "cells": [
  {
   "cell_type": "markdown",
   "metadata": {},
   "source": [
    "# INSTALACIÓN\n",
    "\n",
    "<p style=\"text-align: justify;\">Polynote actualmente solo se prueba en Linux y MacOS, utilizando el navegador Chrome como cliente</p>\n",
    "\n",
    "### MAC:\n",
    "\n",
    "* Se necesita el manejador de paquetes [Homebrew](https://brew.sh).\n",
    "* Puede instalar Spark localmente con <code class=\"language-plaintext highlighter-rouge\">brew install apache-spark</code>\n"
   ]
  }
 ],
 "metadata": {
  "kernelspec": {
   "display_name": "Python 3",
   "language": "python",
   "name": "python3"
  },
  "language_info": {
   "codemirror_mode": {
    "name": "ipython",
    "version": 3
   },
   "file_extension": ".py",
   "mimetype": "text/x-python",
   "name": "python",
   "nbconvert_exporter": "python",
   "pygments_lexer": "ipython3",
   "version": "3.5.2"
  }
 },
 "nbformat": 4,
 "nbformat_minor": 2
}
