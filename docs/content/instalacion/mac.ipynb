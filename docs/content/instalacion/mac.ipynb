{
 "cells": [
  {
   "cell_type": "markdown",
   "metadata": {},
   "source": [
    "# INSTALACIÓN MAC\n",
    "\n",
    "\n",
    "### Instalación:\n",
    "\n",
    "* Se necesita el manejador de paquetes [Homebrew](https://brew.sh).\n",
    "* Puede instalar Spark localmente con <code class=\"language-plaintext highlighter-rouge\">brew install apache-spark</code>\n",
    "\n",
    "\n",
    "### Configuración\n",
    "\n",
    "* <p style=\"text-align: justify;\">Compatibilidad con Python: para ejecutar el código de Python, necesitará tener instalado una versión de <strong>Python 3</strong> y <strong>pip</strong> o <strong>pip3</strong>.</p>\n",
    "\n",
    "    * Puede [Descargar última version](https://www.python.org/ftp/python/3.7.6/python-3.7.6-macosx10.6.pkg) compatible para sistemas de 64 y 32 bits. \n",
    "    * También puede visitar la [página de python.](https://www.python.org/downloads/mac-osx/) y descargar la versión que desee.\n",
    "    \n",
    "\n",
    "* <p style=\"text-align: justify;\">También tendrá que instalar algunas dependencias de Python como <strong>jep,jedi y virtualenv</strong></p>\n",
    "\t\t\t\n",
    "```bash\n",
    "pip install jep jedi pyspark virtualenv\n",
    "```\n",
    "   ***Nota:*** Si recibe un error como \"ruta de desarrollador activa no válida\" en Mac, debe instalar las herramientas de desarrollador de xcode ejecutando el comando a continuación. Luego, después de eso, puede instalar las dependencias anteriores.\n",
    "   ```bash\n",
    "   xcode-select --install\n",
    "   ```\n",
    "\n",
    "* <p style=\"text-align: justify;\">Además, es probable que necesite instalar <strong>pandas y numpy</strong></p>\n",
    "\n",
    "```bash\n",
    "pip install pandas\n",
    "```\n",
    "\n",
    "```bash\n",
    "pip install numpy\n",
    "```\n",
    "\n",
    "### Ejecutar:\n",
    "\n",
    "```bash\n",
    "./polynote\n",
    "```"
   ]
  }
 ],
 "metadata": {
  "kernelspec": {
   "display_name": "Python 3",
   "language": "python",
   "name": "python3"
  },
  "language_info": {
   "codemirror_mode": {
    "name": "ipython",
    "version": 3
   },
   "file_extension": ".py",
   "mimetype": "text/x-python",
   "name": "python",
   "nbconvert_exporter": "python",
   "pygments_lexer": "ipython3",
   "version": "3.5.2"
  }
 },
 "nbformat": 4,
 "nbformat_minor": 2
}
