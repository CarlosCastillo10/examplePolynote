{
 "cells": [
  {
   "cell_type": "markdown",
   "metadata": {},
   "source": [
    "<p><a style=\"text-align: center;\" title=\"Polynote\" href=\"https://polynote.org\"><img src=\"images/logo/logo.svg\" align=\"left\" alt=\"Polynote\" /></a></p><br><br><br><br>\n",
    "<p style=\"text-align: center;\"><font size=16; color=\"maroon\">&nbsp;&nbsp;&nbsp;&nbsp;Polynote</font><br><br></p>\n",
    "<p><H2 style=\"text-align: center;\"><em>El portátil políglota<br>con soporte Scala de primera clase.</em></H2><br></p>\n",
    "<p style=\"text-align: justify;\">Polynote que es un entorno experimental políglota que admite mezclar varios idiomas en una computadora portátil y compartir datos entre ellos sin problemas. </p>\n",
    "\n",
    "## Características\n",
    "**✨ Edición: ✨**\n",
    "* <p style=\"text-align: justify;\">&nbsp;&nbsp;&nbsp;&nbsp;&nbsp;&nbsp;&nbsp;&nbsp;El autocompletado interactivo ayuda a encontrar lo que está buscando sin cambiar a la documentación.</p>\n",
    "* <p style=\"text-align: justify;\">&nbsp;&nbsp;&nbsp;&nbsp;&nbsp;&nbsp;&nbsp;&nbsp;La edición de texto enriquecido permite ver las celdas de texto formateadas a medida que se escribe y editarlas como un documento.</p>\n",
    "\n",
    "**✨ Ejecución: ✨**\n",
    "\n",
    "* <p style=\"text-align: justify;\">&nbsp;&nbsp;&nbsp;&nbsp;&nbsp;&nbsp;&nbsp;&nbsp;Vea exactamente qué código se está ejecutando en ese momento, ya que Polynote resalta la declaración en ejecución en tiempo real.</p>\n",
    "\n",
    "**✨ Datos y visualización: ✨**\n",
    "* <p style=\"text-align: justify;\">&nbsp;&nbsp;&nbsp;&nbsp;&nbsp;&nbsp;&nbsp;&nbsp;Integración de primera clase con Apache Spark ™ para explorar, analizar y visualizar grandes datos.</p>\n",
    "* <p style=\"text-align: justify;\">&nbsp;&nbsp;&nbsp;&nbsp;&nbsp;&nbsp;&nbsp;&nbsp;Visualizar representaciones ricas de datos, derivados automáticamente o proporcionados por una clase de tipos.</p>\n",
    "\n",
    "**✨ Compatibilidad con varios idiomas:✨** \n",
    "* <p style=\"text-align: justify;\">Polynote le permite mezclar varios idiomas en una computadora portátil <strong>(Scala,Python, SQL y Vega)</strong>, mientras comparte definiciones sin problemas entre ellos.</p>"
   ]
  }
 ],
 "metadata": {
  "kernelspec": {
   "display_name": "Python 3",
   "language": "python",
   "name": "python3"
  },
  "language_info": {
   "codemirror_mode": {
    "name": "ipython",
    "version": 3
   },
   "file_extension": ".py",
   "mimetype": "text/x-python",
   "name": "python",
   "nbconvert_exporter": "python",
   "pygments_lexer": "ipython3",
   "version": "3.5.2"
  }
 },
 "nbformat": 4,
 "nbformat_minor": 2
}
