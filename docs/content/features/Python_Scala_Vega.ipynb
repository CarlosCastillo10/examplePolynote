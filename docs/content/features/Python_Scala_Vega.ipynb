{
  "metadata" : {
    "config" : {
      "dependencies" : {
        
      },
      "exclusions" : [
      ],
      "repositories" : [
      ],
      "sparkConfig" : {
        
      }
    }
  },
  "nbformat" : 4,
  "nbformat_minor" : 0,
  "cells" : [
    {
      "cell_type" : "markdown",
      "execution_count" : 0,
      "metadata" : {
        "language" : "text"
      },
      "language" : "text",
      "source" : [
        "# Python Scala Vega\n",
        "\n",
        "This is a text cell. Start editing!"
      ],
      "outputs" : [
      ]
    },
    {
      "cell_type" : "code",
      "execution_count" : 1,
      "metadata" : {
        "cell.metadata.exec_info" : {
          "startTs" : 1581440811148,
          "endTs" : 1581440814347
        },
        "language" : "python"
      },
      "language" : "python",
      "source" : [
        "class Player(object):\n",
        "\n",
        "\tdef __init__(self, numFifa,displayName,country,lastName,firstName,shirtName,\n",
        "\t\tdateBirth,position,club,height,caps,goals):\n",
        "\t\tself.numFifa = int(numFifa)\n",
        "\t\tself.displayName = displayName\n",
        "\t\tself.country = country\n",
        "\t\tself.lastName = lastName\n",
        "\t\tself.firstName = firstName\n",
        "\t\tself.shirtName = shirtName\n",
        "\t\tself.dateBirth = dateBirth\n",
        "\t\tself.position = position\n",
        "\t\tself.club = club\n",
        "\t\tself.height = float(height)\n",
        "\t\tself.caps = caps\n",
        "\t\tself.goals = int(goals)\n",
        "\t\n",
        "\tdef __str__(self):\n",
        "\t\treturn \"numFifa: %d - displayName: %s - country: %s lastName: %s firstName: %s \",\n",
        "\t\t\"- shirtName: %s - dateBirth: %s - position: %s - club: %s - height: %f - caps: %s - goals: %d\"%(\n",
        "\t\t\tself.numFifa,self.displayName,self.country,self.lastName,self.firstName,\n",
        "\t\t\tself.shirtName,self.dateBirth,self.position,self.club,self.height,self.caps,self.goals)"
      ],
      "outputs" : [
      ]
    },
    {
      "cell_type" : "code",
      "execution_count" : 2,
      "metadata" : {
        "cell.metadata.exec_info" : {
          "startTs" : 1581440817624,
          "endTs" : 1581440818311
        },
        "language" : "scala"
      },
      "language" : "scala",
      "source" : [
        "val dataStr = scala.io.Source.fromFile(\"data/mundial.csv\").mkString"
      ],
      "outputs" : [
      ]
    },
    {
      "cell_type" : "code",
      "execution_count" : 3,
      "metadata" : {
        "cell.metadata.exec_info" : {
          "startTs" : 1581440820274,
          "endTs" : 1581440821510
        },
        "language" : "python"
      },
      "language" : "python",
      "source" : [
        "from pymongo import MongoClient\n",
        "mongoClient = MongoClient('localhost',27017)\n",
        "db = mongoClient.Player\n",
        "collection = db.Players\n",
        "def insertCollection(player):\n",
        "    collection.insert(player)"
      ],
      "outputs" : [
      ]
    },
    {
      "cell_type" : "code",
      "execution_count" : 4,
      "metadata" : {
        "cell.metadata.exec_info" : {
          "startTs" : 1581440824514,
          "endTs" : 1581440824737
        },
        "language" : "python"
      },
      "language" : "python",
      "source" : [
        "data = dataStr.split('\\n')\n",
        "data = [x.split('|') for x in data]\n",
        "data = data[1:len(data) - 1]\n",
        "\n",
        "player = {'numFifa': '','displayName':'','country':'','lastName':'','firstName':'',\n",
        "     'shirtName':'','dateBirth':'','position':'','club':'','height':'','caps':'','goals':''}\n",
        "for x in data:\n",
        "    player['numFifa'] = x[0]\n",
        "    player['diplayName'] = x[1]\n",
        "    player['country'] = x[2]\n",
        "    player['lastName'] = x[3]\n",
        "    player['firstName'] = x[4]\n",
        "    player['shirtName'] = x[5]\n",
        "    player['dateBirth'] = x[6]\n",
        "    player['position'] = x[7]\n",
        "    player['club'] = x[8]\n",
        "    player['height'] = x[9]\n",
        "    player['caps'] = x[10]\n",
        "    player['goals'] = x[11]\n",
        "    insertCollection(player)\n",
        "    player = {'numFifa': '','displayName':'','country':'','lastName':'','firstName':'',\n",
        "     'shirtName':'','dateBirth':'','position':'','club':'','height':'','caps':'','goals':''}"
      ],
      "outputs" : [
      ]
    },
    {
      "cell_type" : "code",
      "execution_count" : 5,
      "metadata" : {
        "cell.metadata.exec_info" : {
          "startTs" : 1581440829467,
          "endTs" : 1581440829586
        },
        "language" : "python"
      },
      "language" : "python",
      "source" : [
        "def getGoalsBySelecction(players,countries):\n",
        "    listGoals = []\n",
        "    for country in countries:\n",
        "        goals = 0\n",
        "        for player in players:\n",
        "            if(player.country == country):\n",
        "                goals += player.goals\n",
        "        listGoals.append((country,goals))\n",
        "    return listGoals"
      ],
      "outputs" : [
      ]
    },
    {
      "cell_type" : "code",
      "execution_count" : 6,
      "metadata" : {
        "cell.metadata.exec_info" : {
          "startTs" : 1581440831071,
          "endTs" : 1581440831579
        },
        "language" : "python"
      },
      "language" : "python",
      "source" : [
        "collPlayers = collection.find()\n",
        "players = []\n",
        "countries = []\n",
        "for x in collPlayers:\n",
        "    objPlayer = Player(x['numFifa'],x['displayName'],x['country'],x['lastName'],x['firstName'],x['shirtName'],\n",
        "    x['dateBirth'],x['position'],x['club'],x['height'],x['caps'],x['goals'])\n",
        "    players.append(objPlayer)\n",
        "    countries.append(objPlayer.country)\n",
        "countries = sorted(set(countries))\n",
        "countriesGoals = sorted(getGoalsBySelecction(players,countries),key=lambda tup:(-tup[1], tup[0]))\n"
      ],
      "outputs" : [
      ]
    },
    {
      "cell_type" : "code",
      "execution_count" : 9,
      "metadata" : {
        "cell.metadata.exec_info" : {
          "startTs" : 1581440836397,
          "endTs" : 1581440836581
        },
        "language" : "python"
      },
      "language" : "python",
      "source" : [
        "from random import sample\n",
        "countriesSelecteds = sample(countriesGoals,3)\n",
        "print(countriesSelecteds)"
      ],
      "outputs" : [
        {
          "name" : "stdout",
          "text" : [
            "[('Australia', 121), ('Saudi Arabia', 88), ('Costa Rica', 113)]",
            "\n"
          ],
          "output_type" : "stream"
        }
      ]
    },
    {
      "cell_type" : "code",
      "execution_count" : 10,
      "metadata" : {
        "cell.metadata.exec_info" : {
          "startTs" : 1581440843057,
          "endTs" : 1581440843293
        },
        "language" : "python"
      },
      "language" : "python",
      "source" : [
        "countryName1 = countriesSelecteds[0][0]\n",
        "countryName2 = countriesSelecteds[1][0]\n",
        "countryName3 = countriesSelecteds[2][0]\n",
        "countryGoal1 = countriesSelecteds[0][1]\n",
        "countryGoal2 = countriesSelecteds[1][1]\n",
        "countryGoal3 = countriesSelecteds[2][1]\n",
        "countryMaxGoals = [goal for (country,goal) in countriesSelecteds]\n",
        "countryMaxGoals = max(countryMaxGoals)"
      ],
      "outputs" : [
      ]
    },
    {
      "cell_type" : "code",
      "execution_count" : 11,
      "metadata" : {
        "cell.metadata.exec_info" : {
          "startTs" : 1581440851763,
          "endTs" : 1581440852840
        },
        "language" : "scala"
      },
      "language" : "scala",
      "source" : [
        "val country1 = (countryName1,countryGoal1.toInt)\n",
        "val country2 = (countryName2,countryGoal2.toInt)\n",
        "val country3 = (countryName3,countryGoal3.toInt)\n",
        "getMaximunGoals()\n",
        "def getMaximunGoals(){    \n",
        "    if(country2._2 > country1._2) println(country2)\n",
        "    else if (country3._2 > country1._2) println(country3)\n",
        "    else println(country1)\n",
        "}\n"
      ],
      "outputs" : [
        {
          "name" : "stdout",
          "text" : [
            "(Australia,121)",
            "\n"
          ],
          "output_type" : "stream"
        }
      ]
    },
    {
      "cell_type" : "code",
      "execution_count" : 12,
      "metadata" : {
        "language" : "vega"
      },
      "language" : "vega",
      "source" : [
        "{\n",
        "  \"$schema\": \"https://vega.github.io/schema/vega/v5.json\",\n",
        "  \"width\": 400,\n",
        "  \"height\": 300,\n",
        "  \"padding\": 5,\n",
        "  \"autosize\":\"pad\",\n",
        "  \"data\": [\n",
        "    {\n",
        "      \"name\": \"data_countries\",\n",
        "      \"values\": [\n",
        "        {\"category\": country1._1, \"position\":0,\"value\": country1._2},\n",
        "        {\"category\": country2._1,\"position\":1, \"value\": country2._2},\n",
        "        {\"category\": country3._1, \"position\":2,\"value\": country3._2}\n",
        "      ]\n",
        "    }\n",
        "  ],\n",
        "\n",
        "  \"scales\": [\n",
        "    {\n",
        "      \"name\": \"yscale\",\n",
        "      \"type\": \"band\",\n",
        "      \"domain\": {\"data\": \"data_countries\", \"field\": \"category\"},\n",
        "      \"range\": \"height\",\n",
        "      \"padding\": 0.2\n",
        "    },\n",
        "    {\n",
        "      \"name\": \"xscale\",\n",
        "      \"type\": \"linear\",\n",
        "      \"domain\": {\"data\": \"data_countries\", \"field\": \"value\"},\n",
        "      \"range\": \"width\",\n",
        "      \"round\": true,\n",
        "      \"zero\": true,\n",
        "      \"nice\": true\n",
        "    },\n",
        "    {\n",
        "      \"name\": \"color\",\n",
        "      \"type\": \"ordinal\",\n",
        "      \"domain\": {\"data\": \"data_countries\", \"field\": \"position\"},\n",
        "      \"range\": {\"scheme\": \"category20\"}\n",
        "    }\n",
        "  ],\n",
        "\n",
        "  \"axes\": [\n",
        "    {\"orient\": \"left\", \"scale\": \"yscale\",\"tickSize\": 0, \"labelPadding\": 4, \"zindex\": 1},\n",
        "    {\"orient\": \"bottom\", \"scale\": \"xscale\"}\n",
        "  ],\n",
        "\n",
        "  \"marks\": [\n",
        "    {\n",
        "      \"type\": \"group\",\n",
        "\n",
        "      \"from\": {\n",
        "        \"facet\": {\n",
        "          \"data\": \"data_countries\",\n",
        "          \"name\": \"facet\",\n",
        "          \"groupby\": \"category\"\n",
        "        }\n",
        "      },\n",
        "\n",
        "      \"encode\": {\n",
        "        \"enter\": {\n",
        "          \"y\": {\"scale\": \"yscale\", \"field\": \"category\"}\n",
        "        }\n",
        "      },\n",
        "\n",
        "      \"signals\": [\n",
        "        {\"name\": \"height\", \"update\": \"bandwidth('yscale')\"}\n",
        "      ],\n",
        "\n",
        "      \"scales\": [\n",
        "        {\n",
        "          \"name\": \"pos\",\n",
        "          \"type\": \"band\",\n",
        "          \"range\": \"height\",\n",
        "          \"domain\": {\"data\": \"facet\", \"field\": \"position\"}\n",
        "        }\n",
        "      ],\n",
        "\n",
        "      \"marks\": [\n",
        "        {\n",
        "          \"name\": \"bars\",\n",
        "          \"from\": {\"data\": \"facet\"},\n",
        "          \"type\": \"rect\",\n",
        "          \"encode\": {\n",
        "            \"enter\": {\n",
        "            \"y\": {\"scale\": \"pos\", \"field\": \"position\"},\n",
        "            \"height\": {\"scale\": \"pos\", \"band\": 1},\n",
        "            \"x\": {\"scale\": \"xscale\", \"field\": \"value\"},\n",
        "            \"x2\": {\"scale\": \"xscale\", \"value\": 1},\n",
        "            \"fill\": {\"scale\": \"color\",\"field\": \"position\"}\n",
        "            }\n",
        "          }\n",
        "        },\n",
        "        {\n",
        "          \"type\": \"text\",\n",
        "          \"from\": {\"data\": \"bars\"},\n",
        "          \"encode\": {\n",
        "            \"enter\": {\n",
        "              \"x\": {\"field\": \"x2\", \"offset\": -5},\n",
        "              \"y\": {\"field\": \"y\", \"offset\": {\"field\": \"height\", \"mult\": 0.5}},\n",
        "              \"fill\": [\n",
        "                {\"value\": \"black\"}\n",
        "              ],\n",
        "              \"align\": {\"value\": \"right\"},\n",
        "              \"baseline\": {\"value\": \"middle\"},\n",
        "              \"text\": {\"field\": \"datum.value\"}\n",
        "            }\n",
        "          }\n",
        "        }\n",
        "      ]\n",
        "    }\n",
        "  ],\n",
        "  \"config\": {}\n",
        "}"
      ],
      "outputs" : [
        {
          "data" : {
            "text/html" : [
              "<img src=\"data:image/png;base64,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\">"
            ]
          },
          "output_type" : "display_data"
        }
      ]
    }
  ]
}