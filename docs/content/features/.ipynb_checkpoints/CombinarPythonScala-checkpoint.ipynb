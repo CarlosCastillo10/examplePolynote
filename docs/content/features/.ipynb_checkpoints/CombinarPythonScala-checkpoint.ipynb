{
 "cells": [
  {
   "cell_type": "markdown",
   "metadata": {
    "language": "text"
   },
   "source": [
    "# CombinarPythonScala\n",
    "\n",
    "\n",
    "En este notebook se muestra como la plataforma soporta la combinación de varios idiomas en este caso Python - Scala y como estos pueden compartir datos entre sí\n",
    "\n",
    "\n"
   ]
  },
  {
   "cell_type": "markdown",
   "metadata": {
    "language": "text"
   },
   "source": [
    "## Cogido del lenguaje de programación PYTHON\n",
    "\n"
   ]
  },
  {
   "cell_type": "code",
   "execution_count": 2,
   "metadata": {
    "cell.metadata.exec_info": {
     "endTs": 1581347997791,
     "startTs": 1581347996982
    },
    "language": "python"
   },
   "outputs": [],
   "source": [
    "'''\n",
    "    Clase Estudiante \n",
    "'''\n",
    "class Estudiante(object):\n",
    "    def __init__(self,nombre,identificacion,notas):\n",
    "        self.nombre = nombre\n",
    "        self.identificacion = identificacion\n",
    "        self.notas = notas # Guarda una lista de calificaciones\n",
    "\n",
    "'''\n",
    "    Clase OperacionesEstudiante\n",
    "'''\n",
    "class OperacionesEstudiante(object):\n",
    "\n",
    "    # Recibe como parametros una lista de objetos de tipo estudiante\n",
    "    def __init__(self, listaEstudiantes):\n",
    "        self.estudiantes = listaEstudiantes\n",
    "        self.promedios = []\n",
    "    \n",
    "    def obtener_promedio(self):\n",
    "        promedios = []\n",
    "        for x in self.estudiantes:\n",
    "            suma = 0\n",
    "            for y in x.notas:\n",
    "                suma += y\n",
    "            promedio = suma / len(x.notas)\n",
    "            self.promedios.append(promedio)\n",
    "    def escribir_resultados(self):\n",
    "        cont = 0;\n",
    "        resultadoStr = '{\\n'\n",
    "        for x in self.estudiantes:\n",
    "            # Formamos la cadena en un formato json\n",
    "            resultadoStr = '%s\"Estudiante%d\":{\"Nombre\": \"%s\", \"Identificacion\": \"%s\", \"Notas\": \"%s\", \"Promedio\": \"%s\"},\\n'%(resultadoStr,\n",
    "            cont+1,x.nombre,x.identificacion,x.notas,self.promedios[cont])\n",
    "            cont+=1\n",
    "        resultadoStr = '%s}'%(resultadoStr)\n",
    "        return resultadoStr\n",
    "           "
   ]
  },
  {
   "cell_type": "markdown",
   "metadata": {
    "language": "text"
   },
   "source": [
    "## Cogido del lenguaje de programación **SCALA**\n",
    "\n"
   ]
  },
  {
   "cell_type": "code",
   "execution_count": 4,
   "metadata": {
    "cell.metadata.exec_info": {
     "endTs": 1576876410846,
     "startTs": 1576876410216
    },
    "jupyter.outputs_hidden": true,
    "language": "scala"
   },
   "outputs": [
    {
     "data": {
      "text/plain": [
       "nombre|identificacion|nota1|nota2|nota3\n",
       "Carlos Castillo|1104999535|38|38|40\n",
       "Luis Erazo|1102721238|39|39|40\n",
       "Luis Diaz|1105678954|40|37|34\n",
       "Jose Castillo|1102134560|40|39|38\n",
       "Karen Giron|1102345768|39|31|35\n",
       "Thalia Mijas|1105023386|39|38|36\n",
       "Richard Valladares"
      ]
     },
     "execution_count": 4,
     "metadata": {
      "name": "Out",
      "type": "String"
     },
     "output_type": "execute_result"
    }
   ],
   "source": [
    "// La variable 'dataStr' es interpretada por el lenguaje de programacion 'Python' ya que su tipo de dato es 'str' \n",
    "val dataStr = scala.io.Source.fromFile(\"data/calificaciones.csv\").mkString\n",
    "dataStr"
   ]
  },
  {
   "cell_type": "markdown",
   "metadata": {
    "language": "text"
   },
   "source": [
    "## Cogido del lenguaje de programación PYTHON\n",
    "\n",
    "\n"
   ]
  },
  {
   "cell_type": "code",
   "execution_count": 6,
   "metadata": {
    "cell.metadata.exec_info": {
     "endTs": 1576251477324,
     "startTs": 1576251477204
    },
    "language": "python"
   },
   "outputs": [
    {
     "name": "stdout",
     "output_type": "stream",
     "text": [
      "{\n",
      "\"Estudiante1\":{\"Nombre\": \"Carlos Castillo\", \"Identificacion\": \"1104999535\", \"Notas\": \"[38, 38, 40]\", \"Promedio\": \"38.666666666666664\"},\n",
      "\"Estudiante2\":{\"Nombre\": \"Luis Erazo\", \"Identificacion\": \"1102721238\", \"Notas\": \"[39, 39, 40]\", \"Promedio\": \"39.333333333333336\"},\n",
      "\"Estudiante3\":{\"Nombre\": \"Luis Diaz\", \"Identificacion\": \"1105678954\", \"Notas\": \"[40, 37, 34]\", \"Promedio\": \"37.0\"},\n",
      "\"Estudiante4\":{\"Nombre\": \"Jose Castillo\", \"Identificacion\": \"1102134560\", \"Notas\": \"[40, 39, 38]\", \"Promedio\": \"39.0\"},\n",
      "\"Estudiante5\":{\"Nombre\": \"Karen Giron\", \"Identificacion\": \"1102345768\", \"Notas\": \"[39, 31, 35]\", \"Promedio\": \"35.0\"},\n",
      "\"Estudiante6\":{\"Nombre\": \"Thalia Mijas\", \"Identificacion\": \"1105023386\", \"Notas\": \"[39, 38, 36]\", \"Promedio\": \"37.666666666666664\"},\n",
      "\"Estudiante7\":{\"Nombre\": \"Richard Valladares\", \"Identificacion\": \"1102341342\", \"Notas\": \"[31, 30, 35]\", \"Promedio\": \"32.0\"},\n",
      "}\n"
     ]
    }
   ],
   "source": [
    "auxData = dataStr.split(\"\\n\") # 'dataStr' esta definido en el bloque de 'scala'\n",
    "auxData = auxData[1:]\n",
    "auxData = auxData[:-1]\n",
    "listaData = []\n",
    "for x in auxData:\n",
    "    listaData.append(x.split(\",\"))\n",
    "\n",
    "data = []\n",
    "for x in listaData:\n",
    "    for y in x:\n",
    "        data.append(y.split(\"|\"))\n",
    "\n",
    "listaEstudiantes = []\n",
    "for x in data:\n",
    "    listaNotas = [int(x[2]),int(x[3]),int(x[4])]\n",
    "    objEstudiante = Estudiante(x[0],x[1],listaNotas)\n",
    "    listaEstudiantes.append(objEstudiante)\n",
    "operacion = OperacionesEstudiante(listaEstudiantes)\n",
    "promedios = operacion.obtener_promedio()\n",
    "cadena = operacion.escribir_resultados()  # Variable que es interpretada por el lenguaje de programacion 'Scala' \n",
    "print(cadena)"
   ]
  },
  {
   "cell_type": "markdown",
   "metadata": {
    "language": "text"
   },
   "source": [
    "## Cogido del lenguaje de programación SCALA\n",
    "\n"
   ]
  },
  {
   "cell_type": "code",
   "execution_count": 8,
   "metadata": {
    "cell.metadata.exec_info": {
     "endTs": 1576251618333,
     "startTs": 1576251618197
    },
    "language": "sql"
   },
   "outputs": [],
   "source": [
    "// Guardamos el archivo con extension .json\n",
    "reflect.io.File(\"data/resultados.json\").writeAll(cadena)"
   ]
  },
  {
   "cell_type": "markdown",
   "metadata": {
    "language": "text"
   },
   "source": [
    "## Cogido del lenguaje de programación PYTHON\n",
    "\n"
   ]
  },
  {
   "cell_type": "code",
   "execution_count": 10,
   "metadata": {
    "cell.metadata.exec_info": {
     "endTs": 1576251619969,
     "startTs": 1576251619831
    },
    "language": "python"
   },
   "outputs": [
    {
     "name": "stdout",
     "output_type": "stream",
     "text": [
      "                       Estudiante1  ...         Estudiante7\n",
      "Identificacion          1104999535  ...          1102341342\n",
      "Nombre             Carlos Castillo  ...  Richard Valladares\n",
      "Notas                 [38, 38, 40]  ...        [31, 30, 35]\n",
      "Promedio        38.666666666666664  ...                32.0\n",
      "\n",
      "[4 rows x 7 columns]\n"
     ]
    }
   ],
   "source": [
    "import pandas as pd \n",
    "df = pd.read_json('data/resultados.json')\n",
    "print(df)\n"
   ]
  }
 ],
 "metadata": {
  "config": {
   "dependencies": {},
   "exclusions": [],
   "repositories": [],
   "sparkConfig": {}
  },
  "kernelspec": {
   "display_name": "Python 3",
   "language": "python",
   "name": "python3"
  },
  "language_info": {
   "codemirror_mode": {
    "name": "ipython",
    "version": 3
   },
   "file_extension": ".py",
   "mimetype": "text/x-python",
   "name": "python",
   "nbconvert_exporter": "python",
   "pygments_lexer": "ipython3",
   "version": "3.5.2"
  }
 },
 "nbformat": 4,
 "nbformat_minor": 1
}
