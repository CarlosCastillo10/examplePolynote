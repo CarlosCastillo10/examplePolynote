{
 "cells": [
  {
   "cell_type": "markdown",
   "metadata": {},
   "source": [
    "# INSTALACIÓN\n",
    "\n",
    "<p style=\"text-align: justify;\">Polynote actualmente solo se prueba en Linux y MacOS, utilizando el navegador Chrome como cliente</p>\n",
    "\n",
    "### MAC:\n",
    "\n",
    "* Se necesita el manejador de paquetes [Homebrew](https://brew.sh).\n",
    "* Puede instalar Spark localmente con `brew install apache-spark`.\n",
    "\n",
    "### LINUX:\n",
    "\n",
    "* Desactive Spark donde quiera y configure su entorno para que <strong>SPARK_HOME</strong> apunte a la ubicación de Spark.\n",
    "\n",
    "* Luego agregue `$SPARK_HOME/bin` a su PATH.\n",
    "\n",
    "* También necesitara un <strong>JDK instalado</strong> y <strong>JAVA_HOME</strong> configurado correctamente.\n",
    "\n",
    "&nbsp;&nbsp;&nbsp;&nbsp;&nbsp;&nbsp;&nbsp;&nbsp;✨ Comience por un `sudo apt-get update` para actualizar todos los repositorios.\n",
    "\n",
    "&nbsp;&nbsp;&nbsp;&nbsp;&nbsp;&nbsp;&nbsp;&nbsp;✨ Instale Java (Esto instala Java11 por defecto) `sudo apt-get install default-jdk`.\n",
    "\n",
    "* [Descargue polynote](https://github.com/polynote/polynote/releases/download/0.2.13/polynote-dist-2.12.tar.gz) y luego `tar -zxvpf polynote-dist.tar.gz`.\n",
    "\n",
    "* [Descargue spark](https://www-eu.apache.org/dist/spark/spark-3.0.0-preview/spark-3.0.0-preview-bin-hadoop2.7.tgz), y a continuación `tar -zxvf spark-2.4.4-bin-hadoop2.7.tgz`.\n",
    "\n",
    "* Establezca `JAVA_HOME: export JAVA_HOME=/usr/lib/jvm/default-java/`\n",
    "\n",
    "* Establezca `SPARK_HOME: export SPARK_HOME=`pwd`/spark-2.4.4-bin-hadoop2.7/`\n",
    "\n",
    "* Establezca `PATH: export PATH=\"$PATH:$SPARK_HOME/bin:$SPARK_HOME/sbin\"`\n",
    "\n",
    "* Compruebe si spark está configurado correctamente, al ejecutar `spark-submit`, debería ver información de uso.\n",
    "\n",
    "### Configuración\n",
    "\n",
    "* <p style=\"text-align: justify;\">Compatibilidad con Python: para ejecutar el código de Python, necesitará tener instalado una versión de <strong>Python 3</strong> y <strong>pip</strong> o <strong>pip3</strong>.</p>\n",
    "\n",
    "&nbsp;&nbsp;&nbsp;&nbsp;&nbsp;&nbsp;&nbsp;&nbsp;✨  `sudo apt-get install python3.6`\n",
    "\n",
    "&nbsp;&nbsp;&nbsp;&nbsp;&nbsp;&nbsp;&nbsp;&nbsp; ✨ `sudo apt install python-pip`\n",
    "\n",
    "* <p style=\"text-align: justify;\">También tendrá que instalar algunas dependencias de Python como <strong>jep,jedi y virtualenv</strong></p>\n",
    "\t\t\t\n",
    "&nbsp;&nbsp;&nbsp;&nbsp;&nbsp;&nbsp;&nbsp;&nbsp; ✨ `pip install jep jedi pyspark virtualenv`\n",
    "\n",
    "* <p style=\"text-align: justify;\">Además, es probable que necesite instalar <strong>pandas y numpy</strong></p>\n",
    "\n",
    "&nbsp;&nbsp;&nbsp;&nbsp;&nbsp;&nbsp;&nbsp;&nbsp; ✨ `pip install pandas`\n",
    "\n",
    "&nbsp;&nbsp;&nbsp;&nbsp;&nbsp;&nbsp;&nbsp;&nbsp; ✨ `pip install numpy`\n",
    "\n",
    "### Ejecutar:\n",
    "\n",
    "* `./polynote`\n",
    "\n"
   ]
  }
 ],
 "metadata": {
  "kernelspec": {
   "display_name": "Python 3",
   "language": "python",
   "name": "python3"
  },
  "language_info": {
   "codemirror_mode": {
    "name": "ipython",
    "version": 3
   },
   "file_extension": ".py",
   "mimetype": "text/x-python",
   "name": "python",
   "nbconvert_exporter": "python",
   "pygments_lexer": "ipython3",
   "version": "3.5.2"
  }
 },
 "nbformat": 4,
 "nbformat_minor": 2
}
