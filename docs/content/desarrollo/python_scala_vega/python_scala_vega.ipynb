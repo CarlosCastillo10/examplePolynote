{
 "cells": [
  {
   "cell_type": "markdown",
   "metadata": {
    "language": "text"
   },
   "source": [
    "# PYTHON - SCALA - VEGA SPEC\n",
    "\n",
    "\n",
    "En este notebook se muestra como podemos mezclar 3 idiomas, estableceremos una relación **PYTHON - SCALA - VEGA SPEC**.\n",
    "\n",
    "> ***Ejercicio:*** Combinar Python,Scala y Vega Spec.\n",
    ">\n",
    ">> ***Requisitos:***\n",
    ">>\n",
    ">> - **1.** Leer un archivo 'csv' que contiene los datos de todos los jugadores que participaron en el ultimo mundial.\n",
    ">> - **2.** Guardar los datos de cada jugador en MongoDB.\n",
    ">> - **3.** Generar 3 selecciones de manera aleatoria y determinar la selección que convirtió mas goles.\n",
    ">> - **4.** Graficar las 3 selecciones generadas, donde se detalle el nombre y el numero de goles convertidos de cada selección."
   ]
  },
  {
   "cell_type": "markdown",
   "metadata": {
    "language": "text"
   },
   "source": [
    "#### CÓDIGO PYTHON\n",
    "\n",
    "* Definimos una clase llamada `Player` con su constructor por defecto que se encarga de inicializar todos los atributos definidos para un `Player`.\n",
    "* Además sobre escribimos el metodo `__str__ `propio de ***python*** para darle el formato que deseemos a la manera de como se presenta un objeto, en este caso de tipo **Player**."
   ]
  },
  {
   "cell_type": "code",
   "execution_count": 1,
   "metadata": {
    "cell.metadata.exec_info": {
     "endTs": 1581468723174,
     "startTs": 1581468723068
    },
    "language": "python"
   },
   "outputs": [],
   "source": [
    "# Clase player\n",
    "class Player(object):\n",
    "\n",
    "\t# Contructor sobre cargado\n",
    "\tdef __init__(self, numFifa,displayName,country,lastName,\n",
    "\t\tfirstName,shirtName,dateBirth,position,club,height,\n",
    "\t\tcaps,goals):\n",
    "\t\t\n",
    "\t\tself.numFifa = int(numFifa)\n",
    "\t\tself.displayName = displayName\n",
    "\t\tself.country = country\n",
    "\t\tself.lastName = lastName\n",
    "\t\tself.firstName = firstName\n",
    "\t\tself.shirtName = shirtName\n",
    "\t\tself.dateBirth = dateBirth\n",
    "\t\tself.position = position\n",
    "\t\tself.club = club\n",
    "\t\tself.height = float(height)\n",
    "\t\tself.caps = caps\n",
    "\t\tself.goals = int(goals)\n",
    "\t\n",
    "\t# Sobre escribimos el metodo __str__()\n",
    "\tdef __str__(self):\n",
    "\t\treturn \"numFifa: %d - displayName: %s - country: %s\", \n",
    "\t\t\"lastName: %s firstName: %s - shirtName: %s\",\n",
    "\t\t\" - dateBirth: %s - position: %s - club: %s\",\n",
    "\t\t\" - height: %f - caps: %s - goals: %d\"%(self.numFifa,\n",
    "\t\t\tself.displayName,self.country,self.lastName,\n",
    "\t\t\tself.firstName,self.shirtName,self.dateBirth,\n",
    "\t\t\tself.position,self.club,self.height,self.caps,\n",
    "\t\t\tself.goals)"
   ]
  },
  {
   "cell_type": "markdown",
   "metadata": {
    "language": "text"
   },
   "source": [
    "#### CÓDIGO SCALA\n",
    "\n",
    "* En la variable `dataStr` guardamos lo que se obtiene al momento de leer un archivo con **scala**,en este caso guardamos un ***string*** por lo tanto puede ser interpretada y manipulada con ***python***."
   ]
  },
  {
   "cell_type": "code",
   "execution_count": 2,
   "metadata": {
    "cell.metadata.exec_info": {
     "endTs": 1581468726690,
     "startTs": 1581468726527
    },
    "language": "scala"
   },
   "outputs": [],
   "source": [
    "/*\n",
    "    La variable 'dataStr' es definida con 'scala' cuyo tipo de dato\n",
    "    es 'string' y por lo tanto puede ser interpretado con 'python'.\n",
    "*/\n",
    "val dataStr = scala.io.Source.fromFile(\"data/mundial.csv\").mkString"
   ]
  },
  {
   "cell_type": "markdown",
   "metadata": {
    "language": "text"
   },
   "source": [
    "#### CÓDIGO PYTHON\n",
    "\n",
    "* Con la ayuda de la librería ***pymongo*** realizamos una conexión con **MongoDB** y obtenemos una colección para trabajar con ella. "
   ]
  },
  {
   "cell_type": "code",
   "execution_count": 3,
   "metadata": {
    "cell.metadata.exec_info": {
     "endTs": 1581468730242,
     "startTs": 1581468729872
    },
    "language": "python"
   },
   "outputs": [],
   "source": [
    "from pymongo import MongoClient\n",
    "\n",
    "# Conexión al Server de MongoDB Pasandole el host y el puerto\n",
    "mongoClient = MongoClient('localhost',27017)\n",
    "\n",
    "# Conexión a la base de datos\n",
    "db = mongoClient.Player\n",
    "\n",
    "# Obtenemos una coleccion para trabajar con ella\n",
    "collection = db.Players"
   ]
  },
  {
   "cell_type": "markdown",
   "metadata": {
    "language": "text"
   },
   "source": [
    "#### CÓDIGO PYTHON\n",
    "\n",
    "* Establecemos un método llamado `insertPlayer()` que recibe todos los datos de un jugador leídos desde el 'csv' donde creamos un diccionario llamado `dictPlayer` e insertamos este diccionario a la base de datos.\n",
    "\n"
   ]
  },
  {
   "cell_type": "code",
   "execution_count": 14,
   "metadata": {
    "cell.metadata.exec_info": {
     "endTs": 1581469256621,
     "startTs": 1581469256527
    },
    "language": "python"
   },
   "outputs": [],
   "source": [
    "# Metodo que permite insertar cada jugador en la base de datos\n",
    "def insertPlayer(numFifa, displayName, country, lastName, firstName,\n",
    "    shirtName, dateBirth, position, club, height, caps, goals):\n",
    "\n",
    "    # diccionario\n",
    "    dictPlayer = {\n",
    "        'numFifa': numFifa,'displayName':displayName,\n",
    "        'country':country,'lastName':lastName,'firstName':firstName,\n",
    "        'shirtName':shirtName,'dateBirth':dateBirth,\n",
    "        'position':position,'club':club,'height':height,'caps':caps,\n",
    "        'goals':goals\n",
    "        }\n",
    "\n",
    "    # Insertamos la coleccion en mongoDB    \n",
    "    collection.insert(dictPlayer)"
   ]
  },
  {
   "cell_type": "markdown",
   "metadata": {
    "language": "text"
   },
   "source": [
    "#### CÓDIGO PYTHON\n",
    "\n",
    "* A la variable `dataStr` que fue definida con **scala** la manipulamos para generar una lista de listas que contienen los datos de cada jugador leído desde el 'csv'.\n",
    "* Por cada fila que se encuentra en `data`, es decir cada fila contiene los datos de un jugador, llamamos al método `insertPlayer()` para poder insertar cada registro de un jugador en la base de datos.\n",
    "\n"
   ]
  },
  {
   "cell_type": "code",
   "execution_count": 4,
   "metadata": {
    "cell.metadata.exec_info": {
     "endTs": 1581468826838,
     "startTs": 1581468826484
    },
    "language": "python"
   },
   "outputs": [],
   "source": [
    "# Separamos por salto de linea (\\n) cada registro\n",
    "data = dataStr.split('\\n')\n",
    "\n",
    "# Usando comprensión de listas, separamos cada registro por el\n",
    "# caracter '|'.\n",
    "data = [x.split('|') for x in data]\n",
    "\n",
    "# Eliminamos los encabezados\n",
    "data = data[1:len(data) - 1]\n",
    "\n",
    "for row in data:\n",
    "     # Llamamos al metodo 'insertPlayer()'\n",
    "     insertPlayer(row[0],row[1],row[2],row[3],row[4],row[5],row[6],\n",
    "          row[7],row[8],row[9],row[10],row[11])\n"
   ]
  },
  {
   "cell_type": "markdown",
   "metadata": {
    "language": "text"
   },
   "source": [
    "#### CÓDIGO PYTHON\n",
    "\n",
    "* Definimos un método llamado `getGoalsBySelecction` que recibe dos listas, una de jugadores y otra de los países que participaron en el mundial. Este método se encarga de generar y devolver una **lista de tuplas** que contiene el ***nombre del país*** y el ***numero de goles*** que ha marcado.\n",
    "\n"
   ]
  },
  {
   "cell_type": "code",
   "execution_count": 5,
   "metadata": {
    "cell.metadata.exec_info": {
     "endTs": 1581468743941,
     "startTs": 1581468743844
    },
    "language": "python"
   },
   "outputs": [],
   "source": [
    "# Metodo que permite calcular el numero de goles de cada selección\n",
    "def getGoalsBySelecction(players,countries):\n",
    "    listGoals = []\n",
    "    for country in countries:\n",
    "        goals = 0\n",
    "        for player in players:\n",
    "            if(player.country == country):\n",
    "                goals += player.goals\n",
    "        # Agregamos a lista una tupla.\n",
    "        listGoals.append((country,goals))\n",
    "    return listGoals"
   ]
  },
  {
   "cell_type": "markdown",
   "metadata": {
    "language": "text"
   },
   "source": [
    "#### CÓDIGO PYTHON\n",
    "\n",
    "* Obtenemos todos los jugadores registrados desde mongoDB y creamos los objetos de tipo `Player`.\n",
    "*  Guardamos en `countries` una lista ordenada por orden albafético de los países únicos que participaron en mundial.\n",
    "* En `countriesGoals` guardamos la lista de tuplas que devuelve el metodo `getGoalsBySelecction`.\n",
    "\n"
   ]
  },
  {
   "cell_type": "code",
   "execution_count": 6,
   "metadata": {
    "cell.metadata.exec_info": {
     "endTs": 1581471059367,
     "startTs": 1581471059126
    },
    "language": "python"
   },
   "outputs": [],
   "source": [
    "# Obtenemos la colección de mongoDB\n",
    "collPlayers = collection.find()\n",
    "players = []\n",
    "\n",
    "for x in collPlayers:\n",
    "    # Creamos los objetos de tiplo 'Player'\n",
    "    objPlayer = Player(x['numFifa'],x['displayName'],x['country'],x['lastName'],x['firstName'],x['shirtName'],\n",
    "    x['dateBirth'],x['position'],x['club'],x['height'],x['caps'],x['goals'])\n",
    "    \n",
    "    # Agregamos a lista el objeto de tipo 'Player'\n",
    "    players.append(objPlayer)  \n",
    "\n",
    "# Obtenemos una lista ordenada de los paises sin repetirse\n",
    "countries = sorted(set([player.country for player in players]))\n",
    "\n",
    "# Obtenemos el nombre del pais y el numero de goles marcados.\n",
    "countriesGoals = getGoalsBySelecction(players,countries)\n"
   ]
  },
  {
   "cell_type": "markdown",
   "metadata": {
    "language": "text"
   },
   "source": [
    "#### CÓDIGO PYTHON\n",
    "\n",
    "* Con la ayuda de la librería ***random.sample*** obtenemos de manera aleatoria 3 países con el numero de goles que se encuentran almacenados en `countriesGoals.`\n",
    "\n"
   ]
  },
  {
   "cell_type": "code",
   "execution_count": 7,
   "metadata": {
    "cell.metadata.exec_info": {
     "endTs": 1581471549787,
     "startTs": 1581471549654
    },
    "language": "python"
   },
   "outputs": [
    {
     "name": "stdout",
     "output_type": "stream",
     "text": [
      "[('IR Iran', 222), ('Portugal', 284), ('Poland', 252)]\n"
     ]
    }
   ],
   "source": [
    "from random import sample\n",
    "# Obtenemos de manera aleatoria 3 paises de 'countriesGoals'\n",
    "countriesSelecteds = sample(countriesGoals,3)\n",
    "print(countriesSelecteds)"
   ]
  },
  {
   "cell_type": "markdown",
   "metadata": {
    "language": "text"
   },
   "source": [
    "#### CÓDIGO PYTHON\n",
    "\n",
    "* Las variables definidas en esta celda serán manipularlas con el lenguaje scala para generar **tuplas** propias de scala.\n",
    "\n"
   ]
  },
  {
   "cell_type": "code",
   "execution_count": 8,
   "metadata": {
    "cell.metadata.exec_info": {
     "endTs": 1581471551731,
     "startTs": 1581471551656
    },
    "language": "python"
   },
   "outputs": [],
   "source": [
    "# Variables que guardan los nombres de los países que se encuentran\n",
    "# en 'countriesSelecteds'\n",
    "countryName1 = countriesSelecteds[0][0]\n",
    "countryName2 = countriesSelecteds[1][0]\n",
    "countryName3 = countriesSelecteds[2][0]\n",
    "\n",
    "# Variables que guardan los goles de los países que se encuentran\n",
    "# en 'countriesSelecteds'\n",
    "countryGoal1 = countriesSelecteds[0][1]\n",
    "countryGoal2 = countriesSelecteds[1][1]\n",
    "countryGoal3 = countriesSelecteds[2][1]\n",
    "\n",
    "# Obtenemos el el numero de goles mas alto de las 3 selecciones\n",
    "countryMaxGoals = max([goal for (country,goal) in countriesSelecteds])\n"
   ]
  },
  {
   "cell_type": "markdown",
   "metadata": {
    "language": "text"
   },
   "source": [
    "#### CÓDIGO SCALA\n",
    "\n",
    "* Generamos tuplas en **scala** a partir de las variables definidas en la celda anterior con **python.**\n",
    "* Definimos un método llamado `getMaximunGoals` que se encargará de encontrar de los 3 países, el país que ha marcado mas goles. \n",
    "\n"
   ]
  },
  {
   "cell_type": "code",
   "execution_count": 9,
   "metadata": {
    "cell.metadata.exec_info": {
     "endTs": 1581471068055,
     "startTs": 1581471067670
    },
    "language": "scala"
   },
   "outputs": [
    {
     "name": "stdout",
     "output_type": "stream",
     "text": [
      "(Germany,318)\n"
     ]
    }
   ],
   "source": [
    "// Tuplas que contienen el nombre y el numero de goles de cada país.\n",
    "val country1 = (countryName1,countryGoal1.toInt)\n",
    "val country2 = (countryName2,countryGoal2.toInt)\n",
    "val country3 = (countryName3,countryGoal3.toInt)\n",
    "\n",
    "// Llamamos al metodo para obtener el país que marcó mas goles\n",
    "getMaximunGoals()\n",
    "\n",
    "/* \n",
    "    Metodo que permite obtener de los 3 países seleccionados, \n",
    "    el país que convirtió el mayor número de goles.\n",
    "*/\n",
    "\n",
    "def getMaximunGoals(){    \n",
    "    if(country2._2 > country1._2) println(country2)\n",
    "    else if (country3._2 > country1._2) println(country3)\n",
    "    else println(country1)\n",
    "}\n"
   ]
  },
  {
   "cell_type": "markdown",
   "metadata": {
    "language": "text"
   },
   "source": [
    "#### CÓDIGO VEGA SPEC\n",
    "\n",
    "* Definimos un gráfico de barras que mostrará el nombre de las 3 selecciones y el numero de goles que ha marcado cada país.\n",
    "\n"
   ]
  },
  {
   "cell_type": "markdown",
   "metadata": {
    "language": "vega"
   },
   "source": [
    "```bash\n",
    "{\n",
    "  \"$schema\": \"https://vega.github.io/schema/vega/v5.json\",\n",
    "  \"width\": 400,\n",
    "  \"height\": 300,\n",
    "  \"padding\": 5,\n",
    "  \"autosize\":\"pad\",\n",
    "  \"data\": [\n",
    "    {\n",
    "      \"name\": \"data_countries\",\n",
    "      \"values\": [\n",
    "        {\"category\": country1._1, \"position\":0,\"value\": country1._2},\n",
    "        {\"category\": country2._1,\"position\":1, \"value\": country2._2},\n",
    "        {\"category\": country3._1, \"position\":2,\"value\": country3._2}\n",
    "      ]\n",
    "    }\n",
    "  ],\n",
    "\n",
    "  \"scales\": [\n",
    "    {\n",
    "      \"name\": \"yscale\",\n",
    "      \"type\": \"band\",\n",
    "      \"domain\": {\"data\": \"data_countries\", \"field\": \"category\"},\n",
    "      \"range\": \"height\",\n",
    "      \"padding\": 0.2\n",
    "    },\n",
    "    {\n",
    "      \"name\": \"xscale\",\n",
    "      \"type\": \"linear\",\n",
    "      \"domain\": {\"data\": \"data_countries\", \"field\": \"value\"},\n",
    "      \"range\": \"width\",\n",
    "      \"round\": true,\n",
    "      \"zero\": true,\n",
    "      \"nice\": true\n",
    "    },\n",
    "    {\n",
    "      \"name\": \"color\",\n",
    "      \"type\": \"ordinal\",\n",
    "      \"domain\": {\"data\": \"data_countries\", \"field\": \"position\"},\n",
    "      \"range\": {\"scheme\": \"category20\"}\n",
    "    }\n",
    "  ],\n",
    "\n",
    "  \"axes\": [\n",
    "    {\"orient\": \"left\", \"scale\": \"yscale\",\"tickSize\": 0, \"labelPadding\": 4, \"zindex\": 1},\n",
    "    {\"orient\": \"bottom\", \"scale\": \"xscale\"}\n",
    "  ],\n",
    "\n",
    "  \"marks\": [\n",
    "    {\n",
    "      \"type\": \"group\",\n",
    "\n",
    "      \"from\": {\n",
    "        \"facet\": {\n",
    "          \"data\": \"data_countries\",\n",
    "          \"name\": \"facet\",\n",
    "          \"groupby\": \"category\"\n",
    "        }\n",
    "      },\n",
    "\n",
    "      \"encode\": {\n",
    "        \"enter\": {\n",
    "          \"y\": {\"scale\": \"yscale\", \"field\": \"category\"}\n",
    "        }\n",
    "      },\n",
    "\n",
    "      \"signals\": [\n",
    "        {\"name\": \"height\", \"update\": \"bandwidth('yscale')\"}\n",
    "      ],\n",
    "\n",
    "      \"scales\": [\n",
    "        {\n",
    "          \"name\": \"pos\",\n",
    "          \"type\": \"band\",\n",
    "          \"range\": \"height\",\n",
    "          \"domain\": {\"data\": \"facet\", \"field\": \"position\"}\n",
    "        }\n",
    "      ],\n",
    "\n",
    "      \"marks\": [\n",
    "        {\n",
    "          \"name\": \"bars\",\n",
    "          \"from\": {\"data\": \"facet\"},\n",
    "          \"type\": \"rect\",\n",
    "          \"encode\": {\n",
    "            \"enter\": {\n",
    "            \"y\": {\"scale\": \"pos\", \"field\": \"position\"},\n",
    "            \"height\": {\"scale\": \"pos\", \"band\": 1},\n",
    "            \"x\": {\"scale\": \"xscale\", \"field\": \"value\"},\n",
    "            \"x2\": {\"scale\": \"xscale\", \"value\": 1},\n",
    "            \"fill\": {\"scale\": \"color\",\"field\": \"position\"}\n",
    "            }\n",
    "          }\n",
    "        },\n",
    "        {\n",
    "          \"type\": \"text\",\n",
    "          \"from\": {\"data\": \"bars\"},\n",
    "          \"encode\": {\n",
    "            \"enter\": {\n",
    "              \"x\": {\"field\": \"x2\", \"offset\": -5},\n",
    "              \"y\": {\"field\": \"y\", \"offset\": {\"field\": \"height\", \"mult\": 0.5}},\n",
    "              \"fill\": [\n",
    "                {\"value\": \"black\"}\n",
    "              ],\n",
    "              \"align\": {\"value\": \"right\"},\n",
    "              \"baseline\": {\"value\": \"middle\"},\n",
    "              \"text\": {\"field\": \"datum.value\"}\n",
    "            }\n",
    "          }\n",
    "        }\n",
    "      ]\n",
    "    }\n",
    "  ],\n",
    "  \"config\": {}\n",
    "}\n",
    "```"
   ]
  },
  {
   "attachments": {
    "visualization.png": {
     "image/png": "[encoded data removed]"
    }
   },
   "cell_type": "markdown",
   "metadata": {},
   "source": [
    "![visualization.png](attachment:visualization.png)"
   ]
  }
 ],
 "metadata": {
  "config": {
   "dependencies": {},
   "exclusions": [],
   "repositories": [],
   "sparkConfig": {}
  },
  "kernelspec": {
   "display_name": "Python 3",
   "language": "python",
   "name": "python3"
  },
  "language_info": {
   "codemirror_mode": {
    "name": "ipython",
    "version": 3
   },
   "file_extension": ".py",
   "mimetype": "text/x-python",
   "name": "python",
   "nbconvert_exporter": "python",
   "pygments_lexer": "ipython3",
   "version": "3.5.2"
  }
 },
 "nbformat": 4,
 "nbformat_minor": 1
}
