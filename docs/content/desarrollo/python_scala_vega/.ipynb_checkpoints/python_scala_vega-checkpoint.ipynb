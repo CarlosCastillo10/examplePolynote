{
 "cells": [
  {
   "cell_type": "markdown",
   "metadata": {
    "language": "text"
   },
   "source": [
    "# Python Scala Vega\n",
    "\n",
    "This is a text cell. Start editing!"
   ]
  },
  {
   "cell_type": "code",
   "execution_count": 2,
   "metadata": {
    "cell.metadata.exec_info": {
     "endTs": 1581440814347,
     "startTs": 1581440811148
    },
    "language": "python"
   },
   "outputs": [],
   "source": [
    "class Player(object):\n",
    "\n",
    "\tdef __init__(self, numFifa,displayName,country,lastName,firstName,shirtName,\n",
    "\t\tdateBirth,position,club,height,caps,goals):\n",
    "\t\tself.numFifa = int(numFifa)\n",
    "\t\tself.displayName = displayName\n",
    "\t\tself.country = country\n",
    "\t\tself.lastName = lastName\n",
    "\t\tself.firstName = firstName\n",
    "\t\tself.shirtName = shirtName\n",
    "\t\tself.dateBirth = dateBirth\n",
    "\t\tself.position = position\n",
    "\t\tself.club = club\n",
    "\t\tself.height = float(height)\n",
    "\t\tself.caps = caps\n",
    "\t\tself.goals = int(goals)\n",
    "\t\n",
    "\tdef __str__(self):\n",
    "\t\treturn \"numFifa: %d - displayName: %s - country: %s lastName: %s firstName: %s \",\n",
    "\t\t\"- shirtName: %s - dateBirth: %s - position: %s - club: %s - height: %f - caps: %s - goals: %d\"%(\n",
    "\t\t\tself.numFifa,self.displayName,self.country,self.lastName,self.firstName,\n",
    "\t\t\tself.shirtName,self.dateBirth,self.position,self.club,self.height,self.caps,self.goals)"
   ]
  },
  {
   "cell_type": "code",
   "execution_count": 3,
   "metadata": {
    "cell.metadata.exec_info": {
     "endTs": 1581440818311,
     "startTs": 1581440817624
    },
    "language": "scala"
   },
   "outputs": [
    {
     "ename": "SyntaxError",
     "evalue": "invalid syntax (<ipython-input-3-b74d907ffde3>, line 1)",
     "output_type": "error",
     "traceback": [
      "\u001b[0;36m  File \u001b[0;32m\"<ipython-input-3-b74d907ffde3>\"\u001b[0;36m, line \u001b[0;32m1\u001b[0m\n\u001b[0;31m    val dataStr = scala.io.Source.fromFile(\"data/mundial.csv\").mkString\u001b[0m\n\u001b[0m              ^\u001b[0m\n\u001b[0;31mSyntaxError\u001b[0m\u001b[0;31m:\u001b[0m invalid syntax\n"
     ]
    }
   ],
   "source": [
    "val dataStr = scala.io.Source.fromFile(\"data/mundial.csv\").mkString"
   ]
  },
  {
   "cell_type": "code",
   "execution_count": 5,
   "metadata": {
    "cell.metadata.exec_info": {
     "endTs": 1581440821510,
     "startTs": 1581440820274
    },
    "language": "python"
   },
   "outputs": [
    {
     "ename": "ImportError",
     "evalue": "No module named 'pymongo'",
     "output_type": "error",
     "traceback": [
      "\u001b[0;31m---------------------------------------------------------------------------\u001b[0m",
      "\u001b[0;31mImportError\u001b[0m                               Traceback (most recent call last)",
      "\u001b[0;32m<ipython-input-5-18d5c28f8e4e>\u001b[0m in \u001b[0;36m<module>\u001b[0;34m\u001b[0m\n\u001b[0;32m----> 1\u001b[0;31m \u001b[0;32mfrom\u001b[0m \u001b[0mpymongo\u001b[0m \u001b[0;32mimport\u001b[0m \u001b[0mMongoClient\u001b[0m\u001b[0;34m\u001b[0m\u001b[0m\n\u001b[0m\u001b[1;32m      2\u001b[0m \u001b[0mmongoClient\u001b[0m \u001b[0;34m=\u001b[0m \u001b[0mMongoClient\u001b[0m\u001b[0;34m(\u001b[0m\u001b[0;34m'localhost'\u001b[0m\u001b[0;34m,\u001b[0m\u001b[0;36m27017\u001b[0m\u001b[0;34m)\u001b[0m\u001b[0;34m\u001b[0m\u001b[0m\n\u001b[1;32m      3\u001b[0m \u001b[0mdb\u001b[0m \u001b[0;34m=\u001b[0m \u001b[0mmongoClient\u001b[0m\u001b[0;34m.\u001b[0m\u001b[0mPlayer\u001b[0m\u001b[0;34m\u001b[0m\u001b[0m\n\u001b[1;32m      4\u001b[0m \u001b[0mcollection\u001b[0m \u001b[0;34m=\u001b[0m \u001b[0mdb\u001b[0m\u001b[0;34m.\u001b[0m\u001b[0mPlayers\u001b[0m\u001b[0;34m\u001b[0m\u001b[0m\n\u001b[1;32m      5\u001b[0m \u001b[0;32mdef\u001b[0m \u001b[0minsertCollection\u001b[0m\u001b[0;34m(\u001b[0m\u001b[0mplayer\u001b[0m\u001b[0;34m)\u001b[0m\u001b[0;34m:\u001b[0m\u001b[0;34m\u001b[0m\u001b[0m\n",
      "\u001b[0;31mImportError\u001b[0m: No module named 'pymongo'"
     ]
    }
   ],
   "source": [
    "from pymongo import MongoClient\n",
    "mongoClient = MongoClient('localhost',27017)\n",
    "db = mongoClient.Player\n",
    "collection = db.Players\n",
    "def insertCollection(player):\n",
    "    collection.insert(player)"
   ]
  },
  {
   "cell_type": "code",
   "execution_count": 4,
   "metadata": {
    "cell.metadata.exec_info": {
     "endTs": 1581440824737,
     "startTs": 1581440824514
    },
    "language": "python"
   },
   "outputs": [],
   "source": [
    "data = dataStr.split('\\n')\n",
    "data = [x.split('|') for x in data]\n",
    "data = data[1:len(data) - 1]\n",
    "\n",
    "player = {'numFifa': '','displayName':'','country':'','lastName':'','firstName':'',\n",
    "     'shirtName':'','dateBirth':'','position':'','club':'','height':'','caps':'','goals':''}\n",
    "for x in data:\n",
    "    player['numFifa'] = x[0]\n",
    "    player['diplayName'] = x[1]\n",
    "    player['country'] = x[2]\n",
    "    player['lastName'] = x[3]\n",
    "    player['firstName'] = x[4]\n",
    "    player['shirtName'] = x[5]\n",
    "    player['dateBirth'] = x[6]\n",
    "    player['position'] = x[7]\n",
    "    player['club'] = x[8]\n",
    "    player['height'] = x[9]\n",
    "    player['caps'] = x[10]\n",
    "    player['goals'] = x[11]\n",
    "    insertCollection(player)\n",
    "    player = {'numFifa': '','displayName':'','country':'','lastName':'','firstName':'',\n",
    "     'shirtName':'','dateBirth':'','position':'','club':'','height':'','caps':'','goals':''}"
   ]
  },
  {
   "cell_type": "code",
   "execution_count": 5,
   "metadata": {
    "cell.metadata.exec_info": {
     "endTs": 1581440829586,
     "startTs": 1581440829467
    },
    "language": "python"
   },
   "outputs": [],
   "source": [
    "def getGoalsBySelecction(players,countries):\n",
    "    listGoals = []\n",
    "    for country in countries:\n",
    "        goals = 0\n",
    "        for player in players:\n",
    "            if(player.country == country):\n",
    "                goals += player.goals\n",
    "        listGoals.append((country,goals))\n",
    "    return listGoals"
   ]
  },
  {
   "cell_type": "code",
   "execution_count": 4,
   "metadata": {
    "cell.metadata.exec_info": {
     "endTs": 1581440831579,
     "startTs": 1581440831071
    },
    "language": "python"
   },
   "outputs": [
    {
     "ename": "NameError",
     "evalue": "name 'collection' is not defined",
     "output_type": "error",
     "traceback": [
      "\u001b[0;31m---------------------------------------------------------------------------\u001b[0m",
      "\u001b[0;31mNameError\u001b[0m                                 Traceback (most recent call last)",
      "\u001b[0;32m<ipython-input-4-de1def547ebe>\u001b[0m in \u001b[0;36m<module>\u001b[0;34m\u001b[0m\n\u001b[0;32m----> 1\u001b[0;31m \u001b[0mcollPlayers\u001b[0m \u001b[0;34m=\u001b[0m \u001b[0mcollection\u001b[0m\u001b[0;34m.\u001b[0m\u001b[0mfind\u001b[0m\u001b[0;34m(\u001b[0m\u001b[0;34m)\u001b[0m\u001b[0;34m\u001b[0m\u001b[0m\n\u001b[0m\u001b[1;32m      2\u001b[0m \u001b[0mplayers\u001b[0m \u001b[0;34m=\u001b[0m \u001b[0;34m[\u001b[0m\u001b[0;34m]\u001b[0m\u001b[0;34m\u001b[0m\u001b[0m\n\u001b[1;32m      3\u001b[0m \u001b[0mcountries\u001b[0m \u001b[0;34m=\u001b[0m \u001b[0;34m[\u001b[0m\u001b[0;34m]\u001b[0m\u001b[0;34m\u001b[0m\u001b[0m\n\u001b[1;32m      4\u001b[0m \u001b[0;32mfor\u001b[0m \u001b[0mx\u001b[0m \u001b[0;32min\u001b[0m \u001b[0mcollPlayers\u001b[0m\u001b[0;34m:\u001b[0m\u001b[0;34m\u001b[0m\u001b[0m\n\u001b[1;32m      5\u001b[0m     objPlayer = Player(x['numFifa'],x['displayName'],x['country'],x['lastName'],x['firstName'],x['shirtName'],\n",
      "\u001b[0;31mNameError\u001b[0m: name 'collection' is not defined"
     ]
    }
   ],
   "source": [
    "collPlayers = collection.find()\n",
    "players = []\n",
    "countries = []\n",
    "for x in collPlayers:\n",
    "    objPlayer = Player(x['numFifa'],x['displayName'],x['country'],x['lastName'],x['firstName'],x['shirtName'],\n",
    "    x['dateBirth'],x['position'],x['club'],x['height'],x['caps'],x['goals'])\n",
    "    players.append(objPlayer)\n",
    "    countries.append(objPlayer.country)\n",
    "countries = sorted(set(countries))\n",
    "countriesGoals = sorted(getGoalsBySelecction(players,countries),key=lambda tup:(-tup[1], tup[0]))\n"
   ]
  },
  {
   "cell_type": "code",
   "execution_count": 7,
   "metadata": {
    "cell.metadata.exec_info": {
     "endTs": 1581440836581,
     "startTs": 1581440836397
    },
    "language": "python"
   },
   "outputs": [
    {
     "name": "stdout",
     "output_type": "stream",
     "text": [
      "[('Australia', 121), ('Saudi Arabia', 88), ('Costa Rica', 113)]\n"
     ]
    }
   ],
   "source": [
    "from random import sample\n",
    "countriesSelecteds = sample(countriesGoals,3)\n",
    "print(countriesSelecteds)"
   ]
  },
  {
   "cell_type": "code",
   "execution_count": 8,
   "metadata": {
    "cell.metadata.exec_info": {
     "endTs": 1581440843293,
     "startTs": 1581440843057
    },
    "language": "python"
   },
   "outputs": [],
   "source": [
    "countryName1 = countriesSelecteds[0][0]\n",
    "countryName2 = countriesSelecteds[1][0]\n",
    "countryName3 = countriesSelecteds[2][0]\n",
    "countryGoal1 = countriesSelecteds[0][1]\n",
    "countryGoal2 = countriesSelecteds[1][1]\n",
    "countryGoal3 = countriesSelecteds[2][1]\n",
    "countryMaxGoals = [goal for (country,goal) in countriesSelecteds]\n",
    "countryMaxGoals = max(countryMaxGoals)"
   ]
  },
  {
   "cell_type": "code",
   "execution_count": 9,
   "metadata": {
    "cell.metadata.exec_info": {
     "endTs": 1581440852840,
     "startTs": 1581440851763
    },
    "language": "scala"
   },
   "outputs": [
    {
     "name": "stdout",
     "output_type": "stream",
     "text": [
      "(Australia,121)\n"
     ]
    }
   ],
   "source": [
    "val country1 = (countryName1,countryGoal1.toInt)\n",
    "val country2 = (countryName2,countryGoal2.toInt)\n",
    "val country3 = (countryName3,countryGoal3.toInt)\n",
    "getMaximunGoals()\n",
    "def getMaximunGoals(){    \n",
    "    if(country2._2 > country1._2) println(country2)\n",
    "    else if (country3._2 > country1._2) println(country3)\n",
    "    else println(country1)\n",
    "}\n"
   ]
  },
  {
   "cell_type": "code",
   "execution_count": 1,
   "metadata": {
    "language": "vega"
   },
   "outputs": [
    {
     "ename": "NameError",
     "evalue": "name 'country1' is not defined",
     "output_type": "error",
     "traceback": [
      "\u001b[0;31m---------------------------------------------------------------------------\u001b[0m",
      "\u001b[0;31mNameError\u001b[0m                                 Traceback (most recent call last)",
      "\u001b[0;32m<ipython-input-1-a7a4a8848112>\u001b[0m in \u001b[0;36m<module>\u001b[0;34m\u001b[0m\n\u001b[1;32m      9\u001b[0m       \u001b[0;34m\"name\"\u001b[0m\u001b[0;34m:\u001b[0m \u001b[0;34m\"data_countries\"\u001b[0m\u001b[0;34m,\u001b[0m\u001b[0;34m\u001b[0m\u001b[0m\n\u001b[1;32m     10\u001b[0m       \"values\": [\n\u001b[0;32m---> 11\u001b[0;31m         \u001b[0;34m{\u001b[0m\u001b[0;34m\"category\"\u001b[0m\u001b[0;34m:\u001b[0m \u001b[0mcountry1\u001b[0m\u001b[0;34m.\u001b[0m\u001b[0m_1\u001b[0m\u001b[0;34m,\u001b[0m \u001b[0;34m\"position\"\u001b[0m\u001b[0;34m:\u001b[0m\u001b[0;36m0\u001b[0m\u001b[0;34m,\u001b[0m\u001b[0;34m\"value\"\u001b[0m\u001b[0;34m:\u001b[0m \u001b[0mcountry1\u001b[0m\u001b[0;34m.\u001b[0m\u001b[0m_2\u001b[0m\u001b[0;34m}\u001b[0m\u001b[0;34m,\u001b[0m\u001b[0;34m\u001b[0m\u001b[0m\n\u001b[0m\u001b[1;32m     12\u001b[0m         \u001b[0;34m{\u001b[0m\u001b[0;34m\"category\"\u001b[0m\u001b[0;34m:\u001b[0m \u001b[0mcountry2\u001b[0m\u001b[0;34m.\u001b[0m\u001b[0m_1\u001b[0m\u001b[0;34m,\u001b[0m\u001b[0;34m\"position\"\u001b[0m\u001b[0;34m:\u001b[0m\u001b[0;36m1\u001b[0m\u001b[0;34m,\u001b[0m \u001b[0;34m\"value\"\u001b[0m\u001b[0;34m:\u001b[0m \u001b[0mcountry2\u001b[0m\u001b[0;34m.\u001b[0m\u001b[0m_2\u001b[0m\u001b[0;34m}\u001b[0m\u001b[0;34m,\u001b[0m\u001b[0;34m\u001b[0m\u001b[0m\n\u001b[1;32m     13\u001b[0m         \u001b[0;34m{\u001b[0m\u001b[0;34m\"category\"\u001b[0m\u001b[0;34m:\u001b[0m \u001b[0mcountry3\u001b[0m\u001b[0;34m.\u001b[0m\u001b[0m_1\u001b[0m\u001b[0;34m,\u001b[0m \u001b[0;34m\"position\"\u001b[0m\u001b[0;34m:\u001b[0m\u001b[0;36m2\u001b[0m\u001b[0;34m,\u001b[0m\u001b[0;34m\"value\"\u001b[0m\u001b[0;34m:\u001b[0m \u001b[0mcountry3\u001b[0m\u001b[0;34m.\u001b[0m\u001b[0m_2\u001b[0m\u001b[0;34m}\u001b[0m\u001b[0;34m\u001b[0m\u001b[0m\n",
      "\u001b[0;31mNameError\u001b[0m: name 'country1' is not defined"
     ]
    }
   ],
   "source": [
    "{\n",
    "  \"$schema\": \"https://vega.github.io/schema/vega/v5.json\",\n",
    "  \"width\": 400,\n",
    "  \"height\": 300,\n",
    "  \"padding\": 5,\n",
    "  \"autosize\":\"pad\",\n",
    "  \"data\": [\n",
    "    {\n",
    "      \"name\": \"data_countries\",\n",
    "      \"values\": [\n",
    "        {\"category\": country1._1, \"position\":0,\"value\": country1._2},\n",
    "        {\"category\": country2._1,\"position\":1, \"value\": country2._2},\n",
    "        {\"category\": country3._1, \"position\":2,\"value\": country3._2}\n",
    "      ]\n",
    "    }\n",
    "  ],\n",
    "\n",
    "  \"scales\": [\n",
    "    {\n",
    "      \"name\": \"yscale\",\n",
    "      \"type\": \"band\",\n",
    "      \"domain\": {\"data\": \"data_countries\", \"field\": \"category\"},\n",
    "      \"range\": \"height\",\n",
    "      \"padding\": 0.2\n",
    "    },\n",
    "    {\n",
    "      \"name\": \"xscale\",\n",
    "      \"type\": \"linear\",\n",
    "      \"domain\": {\"data\": \"data_countries\", \"field\": \"value\"},\n",
    "      \"range\": \"width\",\n",
    "      \"round\": true,\n",
    "      \"zero\": true,\n",
    "      \"nice\": true\n",
    "    },\n",
    "    {\n",
    "      \"name\": \"color\",\n",
    "      \"type\": \"ordinal\",\n",
    "      \"domain\": {\"data\": \"data_countries\", \"field\": \"position\"},\n",
    "      \"range\": {\"scheme\": \"category20\"}\n",
    "    }\n",
    "  ],\n",
    "\n",
    "  \"axes\": [\n",
    "    {\"orient\": \"left\", \"scale\": \"yscale\",\"tickSize\": 0, \"labelPadding\": 4, \"zindex\": 1},\n",
    "    {\"orient\": \"bottom\", \"scale\": \"xscale\"}\n",
    "  ],\n",
    "\n",
    "  \"marks\": [\n",
    "    {\n",
    "      \"type\": \"group\",\n",
    "\n",
    "      \"from\": {\n",
    "        \"facet\": {\n",
    "          \"data\": \"data_countries\",\n",
    "          \"name\": \"facet\",\n",
    "          \"groupby\": \"category\"\n",
    "        }\n",
    "      },\n",
    "\n",
    "      \"encode\": {\n",
    "        \"enter\": {\n",
    "          \"y\": {\"scale\": \"yscale\", \"field\": \"category\"}\n",
    "        }\n",
    "      },\n",
    "\n",
    "      \"signals\": [\n",
    "        {\"name\": \"height\", \"update\": \"bandwidth('yscale')\"}\n",
    "      ],\n",
    "\n",
    "      \"scales\": [\n",
    "        {\n",
    "          \"name\": \"pos\",\n",
    "          \"type\": \"band\",\n",
    "          \"range\": \"height\",\n",
    "          \"domain\": {\"data\": \"facet\", \"field\": \"position\"}\n",
    "        }\n",
    "      ],\n",
    "\n",
    "      \"marks\": [\n",
    "        {\n",
    "          \"name\": \"bars\",\n",
    "          \"from\": {\"data\": \"facet\"},\n",
    "          \"type\": \"rect\",\n",
    "          \"encode\": {\n",
    "            \"enter\": {\n",
    "            \"y\": {\"scale\": \"pos\", \"field\": \"position\"},\n",
    "            \"height\": {\"scale\": \"pos\", \"band\": 1},\n",
    "            \"x\": {\"scale\": \"xscale\", \"field\": \"value\"},\n",
    "            \"x2\": {\"scale\": \"xscale\", \"value\": 1},\n",
    "            \"fill\": {\"scale\": \"color\",\"field\": \"position\"}\n",
    "            }\n",
    "          }\n",
    "        },\n",
    "        {\n",
    "          \"type\": \"text\",\n",
    "          \"from\": {\"data\": \"bars\"},\n",
    "          \"encode\": {\n",
    "            \"enter\": {\n",
    "              \"x\": {\"field\": \"x2\", \"offset\": -5},\n",
    "              \"y\": {\"field\": \"y\", \"offset\": {\"field\": \"height\", \"mult\": 0.5}},\n",
    "              \"fill\": [\n",
    "                {\"value\": \"black\"}\n",
    "              ],\n",
    "              \"align\": {\"value\": \"right\"},\n",
    "              \"baseline\": {\"value\": \"middle\"},\n",
    "              \"text\": {\"field\": \"datum.value\"}\n",
    "            }\n",
    "          }\n",
    "        }\n",
    "      ]\n",
    "    }\n",
    "  ],\n",
    "  \"config\": {}\n",
    "}"
   ]
  }
 ],
 "metadata": {
  "config": {
   "dependencies": {},
   "exclusions": [],
   "repositories": [],
   "sparkConfig": {}
  },
  "kernelspec": {
   "display_name": "Python 3",
   "language": "python",
   "name": "python3"
  },
  "language_info": {
   "codemirror_mode": {
    "name": "ipython",
    "version": 3
   },
   "file_extension": ".py",
   "mimetype": "text/x-python",
   "name": "python",
   "nbconvert_exporter": "python",
   "pygments_lexer": "ipython3",
   "version": "3.5.2"
  }
 },
 "nbformat": 4,
 "nbformat_minor": 1
}
