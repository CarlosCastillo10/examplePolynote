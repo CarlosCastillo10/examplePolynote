{
 "cells": [
  {
   "cell_type": "markdown",
   "metadata": {
    "language": "text"
   },
   "source": [
    "# PYTHON\n",
    "\n",
    "**GRÁFICO DE BARRAS INTERACTIVO**\n",
    "\n",
    "**<br>**\n",
    "\n",
    "\n"
   ]
  },
  {
   "cell_type": "code",
   "execution_count": 7,
   "metadata": {
    "cell.metadata.exec_info": {
     "endTs": 1581522347522,
     "startTs": 1581522306666
    },
    "language": "python"
   },
   "outputs": [],
   "source": [
    "%matplotlib inline\n",
    "import numpy as np\n",
    "import matplotlib.pyplot as plt"
   ]
  },
  {
   "cell_type": "markdown",
   "metadata": {
    "language": "text"
   },
   "source": [
    "Se define una función llamada `plot_function` que simula una distribución normal y representa un histográma. La idea es comprobar cómo evoluciona la forma de la distribución a medida que aumenta el tamaño de la muestra."
   ]
  },
  {
   "cell_type": "code",
   "execution_count": 8,
   "metadata": {
    "cell.metadata.exec_info": {
     "endTs": 1581522502965,
     "startTs": 1581522502039
    },
    "language": "python"
   },
   "outputs": [],
   "source": [
    "from scipy.stats import norm\n",
    "\n",
    "def plot_function(size = 100, bins = 10, loc=0, scale=1, color='red'):\n",
    "    data = norm.rvs(size=size, loc=loc, scale=scale)\n",
    "    binwidth = (max(data) - min(data))/ bins\n",
    "    plt.hist(data, \n",
    "             bins=np.arange(min(data), max(data) + binwidth, binwidth),\n",
    "             color=color)\n",
    "    plt.show()"
   ]
  },
  {
   "cell_type": "markdown",
   "metadata": {
    "language": "text"
   },
   "source": [
    "Ahora, se puede importar la función `interact` de ***ipywidgets*** para crear un gráfico interactivo. A esta función se le pasa como parámetro la funcion plot_function que se ha definido para generar el gráfico. <br>Interact genera un gráfico con un control para para cada una de las entradas de la función que se pueden utilizar para cambiar los valores.\n",
    "\n"
   ]
  },
  {
   "cell_type": "code",
   "execution_count": 5,
   "metadata": {
    "cell.metadata.exec_info": {
     "endTs": 1581522504823,
     "startTs": 1581522504526
    },
    "language": "python"
   },
   "outputs": [
    {
     "data": {
      "image/png": "[encoded data removed]",
      "text/plain": [
       "<Figure size 432x288 with 1 Axes>"
      ]
     },
     "metadata": {
      "needs_background": "light"
     },
     "output_type": "display_data"
    }
   ],
   "source": [
    "from ipywidgets import interact \n",
    "interact(plot_function)\n",
    "None"
   ]
  },
  {
   "cell_type": "markdown",
   "metadata": {
    "language": "text"
   },
   "source": [
    "En la celda anterior se puede ver que es posible seleccionar valores en los controles que no son válidos. Por ejemplo, un tamaño de la muestra negativo o un nombre de color no disponible. Para evitar esto se le puede indicar los valores permitidos y el paso en las barras de desplazamiento para cada uno de los parámetros. "
   ]
  },
  {
   "cell_type": "code",
   "execution_count": 6,
   "metadata": {
    "cell.metadata.exec_info": {
     "endTs": 1581522541912,
     "startTs": 1581522541706
    },
    "language": "python"
   },
   "outputs": [
    {
     "data": {
      "image/png": "[encoded data removed]",
      "text/plain": [
       "<Figure size 432x288 with 1 Axes>"
      ]
     },
     "metadata": {
      "needs_background": "light"
     },
     "output_type": "display_data"
    }
   ],
   "source": [
    "interact(plot_function,\n",
    "         size = (1, 1000, 10),\n",
    "         bins = (1, 100, 1),\n",
    "         loc = (-100, 100, 1),\n",
    "         scale = (1, 100, 1),\n",
    "         color=['red', 'yellow', 'blue'])\n",
    "None"
   ]
  }
 ],
 "metadata": {
  "config": {
   "dependencies": {
    "python": [
     "ipywidgets",
     "scipy"
    ]
   },
   "exclusions": [],
   "repositories": [],
   "sparkConfig": {}
  },
  "kernelspec": {
   "display_name": "Python 3",
   "language": "python",
   "name": "python3"
  },
  "language_info": {
   "codemirror_mode": {
    "name": "ipython",
    "version": 3
   },
   "file_extension": ".py",
   "mimetype": "text/x-python",
   "name": "python",
   "nbconvert_exporter": "python",
   "pygments_lexer": "ipython3",
   "version": "3.5.2"
  }
 },
 "nbformat": 4,
 "nbformat_minor": 1
}
