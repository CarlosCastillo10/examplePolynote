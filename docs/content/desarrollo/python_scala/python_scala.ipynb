{
  "metadata" : {
    "config" : {
      "dependencies" : {
        
      },
      "exclusions" : [
      ],
      "repositories" : [
      ],
      "sparkConfig" : {
        
      }
    }
  },
  "nbformat" : 4,
  "nbformat_minor" : 0,
  "cells" : [
    {
      "cell_type" : "markdown",
      "execution_count" : 0,
      "metadata" : {
        "language" : "text"
      },
      "language" : "text",
      "source" : [
        "# PYTHON - SCALA\n",
        "\n",
        "\n",
        "En este notebook se muestra como la plataforma soporta la combinación de varios idiomas en este caso Python - Scala y como estos pueden compartir datos entre sí.\n",
        "\n",
        "> ***Ejercicio:**** El ejercicio propuesto cumple con los siguientes requisitos:*\n",
        "> \n",
        "> 1. *Leer un archivo 'csv' con ****scala******.***\n",
        "> 2. *Manipular dicho archivo con ****python***\n",
        "> 3. *Guardar los resultados con ****scala ****en un archivo json.*\n",
        "> 4. *Leer con pandas el archivo json generado en el paso 3.*\n",
        "> \n",
        "> \n",
        "\n",
        "\n"
      ],
      "outputs" : [
      ]
    },
    {
      "cell_type" : "markdown",
      "execution_count" : 1,
      "metadata" : {
        "language" : "text"
      },
      "language" : "text",
      "source" : [
        "#### CÓDIGO PYTHON\n",
        "\n",
        "* Se declara una clase llamada `Estudiante`*** ***con su constructor sobrecargado, que permitirá inicializar los atributos `nombre`, `identificacion` y `notas` que es una lista de todas las calificaciones totales de 3 materias por cada estudiante. \n",
        "\n",
        "* Se declara una clase `OperacionesEstudiante` que cuyo constructor recibe una lista de objetos de tipo ***Estudiante******. ***con la que se obtendrá el promedio por cada estudiante que se encuentre en la lista de `estudiantes`.\n",
        "\n",
        "\n"
      ],
      "outputs" : [
      ]
    },
    {
      "cell_type" : "code",
      "execution_count" : 2,
      "metadata" : {
        "cell.metadata.exec_info" : {
          "startTs" : 1581459033129,
          "endTs" : 1581459033287
        },
        "language" : "python"
      },
      "language" : "python",
      "source" : [
        "\n",
        "# Clase Estudiante\n",
        "class Estudiante(object):\n",
        "    def __init__(self,nombre,identificacion,notas):\n",
        "        self.nombre = nombre\n",
        "        self.identificacion = identificacion\n",
        "        self.notas = notas # Guarda una lista de calificaciones\n",
        "\n",
        "# Clase OperacionesEstudiante\n",
        "class OperacionesEstudiante(object):\n",
        "\n",
        "    # Recibe como parametros una lista de objetos de tipo estudiante\n",
        "    def __init__(self, listaEstudiantes):\n",
        "        self.estudiantes = listaEstudiantes\n",
        "        self.promedios = []\n",
        "    \n",
        "    # Metodo que permite obtener el promedio de cada estudiante\n",
        "    def obtener_promedio(self):\n",
        "        for estudiante in self.estudiantes:\n",
        "            suma = 0\n",
        "            for y in estudiante.notas:\n",
        "                suma += y\n",
        "            self.promedios.append(suma / len(estudiante.notas))\n",
        "    \n",
        "    # Metodo que genera una cadena en con la estuctura de un json\n",
        "    def escribir_resultados(self):\n",
        "        cont = 0;\n",
        "        resultadoStr = '{\\n'\n",
        "\n",
        "        for estudiante in self.estudiantes:\n",
        "            # Formamos la cadena en un formato json\n",
        "            resultadoStr = '%s\"Estudiante%d\":{\"Nombre\": \"%s\",',\n",
        "            '\"Identificacion\": \"%s\", \"Notas\": \"%s\",',\n",
        "            ' \"Promedio\": \"%s\"},\\n'%(resultadoStr,cont+1,\n",
        "            estudiante.nombre,estudiante.identificacion,\n",
        "            estudiante.notas,self.promedios[cont])\n",
        "            cont+=1\n",
        "\n",
        "        resultadoStr = '%s}'%(resultadoStr)\n",
        "        return resultadoStr\n",
        "           "
      ],
      "outputs" : [
      ]
    },
    {
      "cell_type" : "markdown",
      "execution_count" : 3,
      "metadata" : {
        "language" : "text"
      },
      "language" : "text",
      "source" : [
        "#### CÓDIGO SCALA\n",
        "\n",
        "* En la variable `data` guardamos lo que se obtiene al momento de leer un archivo con **scala, **en este caso guardamos un ***string.***\n",
        "\n",
        "\n"
      ],
      "outputs" : [
      ]
    },
    {
      "cell_type" : "code",
      "execution_count" : 4,
      "metadata" : {
        "jupyter.outputs_hidden" : true,
        "cell.metadata.exec_info" : {
          "startTs" : 1581458775190,
          "endTs" : 1581458775520
        },
        "language" : "scala"
      },
      "language" : "scala",
      "source" : [
        "/*\n",
        "La variable 'data' es interpretada por el lenguaje de \n",
        "programacion 'Python' ya que su tipo de dato es 'str'\n",
        "*/\n",
        "\n",
        "val data = scala.io.Source.fromFile(\"data/calificaciones.csv\").mkString\n",
        "data"
      ],
      "outputs" : [
        {
          "execution_count" : 4,
          "data" : {
            "text/plain" : [
              "nombre|identificacion|nota1|nota2|nota3\n",
              "Carlos Castillo|1104999535|38|38|40\n",
              "Luis Erazo|1102721238|39|39|40\n",
              "Luis Diaz|1105678954|40|37|34\n",
              "Jose Castillo|1102134560|40|39|38\n",
              "Karen Giron|1102345768|39|31|35\n",
              "Thalia Mijas|1105023386|39|38|36\n",
              "Richard Valladares"
            ]
          },
          "metadata" : {
            "name" : "Out",
            "type" : "String"
          },
          "output_type" : "execute_result"
        }
      ]
    },
    {
      "cell_type" : "markdown",
      "execution_count" : 5,
      "metadata" : {
        "language" : "text"
      },
      "language" : "text",
      "source" : [
        "#### CÓDIGO PYTHON\n",
        "\n",
        "* A la variable `data`que fue definida con **scala **la manipulamos en este bloque con **python **y al final generamos la variable  ***string ***con la estructura de una archivo json.\n",
        "\n",
        "\n"
      ],
      "outputs" : [
      ]
    },
    {
      "cell_type" : "code",
      "execution_count" : 6,
      "metadata" : {
        "cell.metadata.exec_info" : {
          "startTs" : 1581458777037,
          "endTs" : 1581458777387
        },
        "language" : "python"
      },
      "language" : "python",
      "source" : [
        "# 'data' esta definido en el bloque de 'scala'\n",
        "auxData = data.split(\"\\n\") \n",
        "auxData = auxData[1:]\n",
        "auxData = auxData[:-1]\n",
        "\n",
        "listaData = []\n",
        "\n",
        "for fila in auxData:\n",
        "    listaData.append(fila.split(\",\"))\n",
        "\n",
        "data = []\n",
        "for fila in listaData:\n",
        "    for columna in fila:\n",
        "        data.append(columna.split(\"|\"))\n",
        "\n",
        "\n",
        "listaEstudiantes = []\n",
        "\n",
        "for fila in data:\n",
        "    listaNotas = [int(fila[2]),int(fila[3]),int(fila[4])]\n",
        "    objEstudiante = Estudiante(fila[0],fila[1],listaNotas)\n",
        "    # Agregamos los objetos de tipo estudiante a la lista\n",
        "    listaEstudiantes.append(objEstudiante)\n",
        "\n",
        "# Creamos el objeto de tipo 'OperacionesEstudiante'\n",
        "operacion = OperacionesEstudiante(listaEstudiantes)\n",
        "\n",
        "# Guardamos en 'promedios' lo que devuelve el metodo.\n",
        "promedios = operacion.obtener_promedio()\n",
        "\n",
        "# Variable que es interpretada por el lenguaje de programacion 'Scala'\n",
        "resultado = operacion.escribir_resultados()  \n",
        "print(resultado)"
      ],
      "outputs" : [
        {
          "name" : "stdout",
          "text" : [
            "{\n",
            "\"Estudiante1\":{\"Nombre\": \"Carlos Castillo\",\"Identificacion\": \"1104999535\", \"Notas\": \"[38, 38, 40]\", \"Promedio\": \"38.666666666666664\"},\n",
            "\"Estudiante2\":{\"Nombre\": \"Luis Erazo\",\"Identificacion\": \"1102721238\", \"Notas\": \"[39, 39, 40]\", \"Promedio\": \"39.333333333333336\"},\n",
            "\"Estudiante3\":{\"Nombre\": \"Luis Diaz\",\"Identificacion\": \"1105678954\", \"Notas\": \"[40, 37, 34]\", \"Promedio\": \"37.0\"},\n",
            "\"Estudiante4\":{\"Nombre\": \"Jose Castillo\",\"Identificacion\": \"1102134560\", \"Notas\": \"[40, 39, 38]\", \"Promedio\": \"39.0\"},\n",
            "\"Estudiante5\":{\"Nombre\": \"Karen Giron\",\"Identificacion\": \"1102345768\", \"Notas\": \"[39, 31, 35]\", \"Promedio\": \"35.0\"},\n",
            "\"Estudiante6\":{\"Nombre\": \"Thalia Mijas\",\"Identificacion\": \"1105023386\", \"Notas\": \"[39, 38, 36]\", \"Promedio\": \"37.666666666666664\"},\n",
            "\"Estudiante7\":{\"Nombre\": \"Richard Valladares\",\"Identificacion\": \"1102341342\", \"Notas\": \"[31, 30, 35]\", \"Promedio\": \"32.0\"},\n",
            "}",
            "\n"
          ],
          "output_type" : "stream"
        }
      ]
    },
    {
      "cell_type" : "markdown",
      "execution_count" : 7,
      "metadata" : {
        "language" : "text"
      },
      "language" : "text",
      "source" : [
        "#### CÓDIGO SCALA\n",
        "\n",
        "* Guardamos con **scala** lo que tiene la variable `resultado` que fue generada con **python**  en un archivo llamado `resultados` con extensión **json.**\n",
        "\n",
        "\n"
      ],
      "outputs" : [
      ]
    },
    {
      "cell_type" : "code",
      "execution_count" : 8,
      "metadata" : {
        "cell.metadata.exec_info" : {
          "startTs" : 1581458966621,
          "endTs" : 1581458966876
        },
        "language" : "scala"
      },
      "language" : "scala",
      "source" : [
        "// Guardamos el archivo con extension .json\n",
        "reflect.io.File(\"data/resultados.json\").writeAll(resultado)"
      ],
      "outputs" : [
      ]
    },
    {
      "cell_type" : "markdown",
      "execution_count" : 9,
      "metadata" : {
        "language" : "text"
      },
      "language" : "text",
      "source" : [
        "#### CÓDIGO PYTHON\n",
        "\n",
        "* Con la librería **pandas **leemos el archivo generado en la celda anterior.\n",
        "\n",
        "\n"
      ],
      "outputs" : [
      ]
    },
    {
      "cell_type" : "code",
      "execution_count" : 10,
      "metadata" : {
        "cell.metadata.exec_info" : {
          "startTs" : 1581461246552,
          "endTs" : 1581461246679
        },
        "language" : "python"
      },
      "language" : "python",
      "source" : [
        "import pandas as pd \n",
        "df = pd.read_json('data/resultados.json')\n",
        "print(df)"
      ],
      "outputs" : [
        {
          "name" : "stdout",
          "text" : [
            "                       Estudiante1  ...         Estudiante7\n",
            "Identificacion          1104999535  ...          1102341342\n",
            "Nombre             Carlos Castillo  ...  Richard Valladares\n",
            "Notas                 [38, 38, 40]  ...        [31, 30, 35]\n",
            "Promedio        38.666666666666664  ...                32.0\n",
            "\n",
            "[4 rows x 7 columns]",
            "\n"
          ],
          "output_type" : "stream"
        }
      ]
    },
    {
      "cell_type" : "markdown",
      "execution_count" : 11,
      "metadata" : {
        "language" : "text"
      },
      "language" : "text",
      "source" : [
        "[Descargar Ejercicio](https://drive.google.com/uc?id=1dCzFDWsShAcd9Bsf47bfOKVm-cXdnfLz&export=download&authuser=0)"
      ],
      "outputs" : [
      ]
    }
  ]
}